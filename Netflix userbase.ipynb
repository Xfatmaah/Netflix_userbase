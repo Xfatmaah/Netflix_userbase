{
 "cells": [
  {
   "cell_type": "code",
   "execution_count": 1,
   "id": "eefe0287",
   "metadata": {},
   "outputs": [],
   "source": [
    "import pandas as pd\n",
    "import seaborn as sns\n",
    "import matplotlib.pyplot as plt"
   ]
  },
  {
   "cell_type": "markdown",
   "id": "a6db978a",
   "metadata": {},
   "source": [
    "## Data Exploration"
   ]
  },
  {
   "cell_type": "code",
   "execution_count": 2,
   "id": "01823311",
   "metadata": {},
   "outputs": [],
   "source": [
    "df = pd.read_csv('Netflix Userbase.csv')"
   ]
  },
  {
   "cell_type": "code",
   "execution_count": 3,
   "id": "e5c29904",
   "metadata": {},
   "outputs": [],
   "source": [
    "# show first 5 rows\n",
    "df.head()"
   ]
  },
  {
   "cell_type": "code",
   "execution_count": 4,
   "id": "62cfce0b",
   "metadata": {},
   "outputs": [],
   "source": [
    "# show last 5 rows\n",
    "df.tail()"
   ]
  },
  {
   "cell_type": "code",
   "execution_count": 5,
   "id": "a6e6c63c",
   "metadata": {},
   "outputs": [],
   "source": [
    "# Dstaset shape(rows,columns)\n",
    "df.shape"
   ]
  },
  {
   "cell_type": "code",
   "execution_count": 6,
   "id": "e77ca77c",
   "metadata": {},
   "outputs": [],
   "source": [
    "# Getting information about dataset\n",
    "df.info()"
   ]
  },
  {
   "cell_type": "code",
   "execution_count": 7,
   "id": "136446b3",
   "metadata": {},
   "outputs": [],
   "source": [
    "# recast data type to datetime\n",
    "df['Join Date'] = df['Join Date'].astype('datetime64[ns]')\n",
    "df['Last Payment Date'] = df['Last Payment Date'].astype('datetime64[ns]')"
   ]
  },
  {
   "cell_type": "code",
   "execution_count": 8,
   "id": "0cda5c90",
   "metadata": {},
   "outputs": [],
   "source": [
    "# another way\n",
    "# df['Join Date'] = pd.to_datetime(df['Join Date'])\n",
    "# df['Last Payment Date'] = pd.to_datetime(df['Last Payment Date'])"
   ]
  },
  {
   "cell_type": "code",
   "execution_count": 9,
   "id": "e4aa7ff8",
   "metadata": {},
   "outputs": [],
   "source": [
    "df['Join Date'].dtype"
   ]
  },
  {
   "cell_type": "code",
   "execution_count": 10,
   "id": "ee1aeb22",
   "metadata": {},
   "outputs": [],
   "source": [
    "# check duplicated rows\n",
    "print(df.duplicated().any())"
   ]
  },
  {
   "cell_type": "code",
   "execution_count": 11,
   "id": "9b01d782",
   "metadata": {},
   "outputs": [],
   "source": [
    "# get overall statistics\n",
    "df[['Monthly Revenue','Age']].describe()"
   ]
  },
  {
   "cell_type": "code",
   "execution_count": 12,
   "id": "ca234058",
   "metadata": {},
   "outputs": [],
   "source": [
    "# categorical data info\n",
    "df.describe(include=\"O\")"
   ]
  },
  {
   "cell_type": "code",
   "execution_count": 13,
   "id": "dfc86808",
   "metadata": {},
   "outputs": [],
   "source": [
    "# check outliers\n",
    "fig, ax = plt.subplots(1,2,figsize=(15,5))\n",
    "ax[0].boxplot(df['Monthly Revenue'])\n",
    "ax[0].set_title(\"Monthly Revenue\")\n",
    "ax[1].boxplot(df['Age'])\n",
    "ax[1].set_title(\"Age\")"
   ]
  },
  {
   "cell_type": "code",
   "execution_count": 14,
   "id": "67bbe179",
   "metadata": {},
   "outputs": [],
   "source": [
    "# Check number of unique values in data\n",
    "df.nunique()"
   ]
  },
  {
   "cell_type": "code",
   "execution_count": 15,
   "id": "75414ee6",
   "metadata": {},
   "outputs": [],
   "source": [
    "# The most frequent subscribers age\n",
    "df['Age'].value_counts().idxmax()"
   ]
  },
  {
   "cell_type": "code",
   "execution_count": 16,
   "id": "989fe9e3",
   "metadata": {},
   "outputs": [],
   "source": [
    "# The number of subscribers in each Subscription Type\n",
    "df['Subscription Type'].value_counts()"
   ]
  },
  {
   "cell_type": "code",
   "execution_count": 17,
   "id": "645633ef",
   "metadata": {},
   "outputs": [],
   "source": [
    "# Each device count\n",
    "df['Device'].value_counts()"
   ]
  },
  {
   "cell_type": "code",
   "execution_count": 18,
   "id": "377f6705",
   "metadata": {},
   "outputs": [],
   "source": [
    "# The number of subscribers of both genders(Male, Female)\n",
    "df['Gender'].value_counts()"
   ]
  },
  {
   "cell_type": "code",
   "execution_count": 19,
   "id": "04eb3a19",
   "metadata": {},
   "outputs": [],
   "source": [
    "# The country with the most subscribers \n",
    "df['Country'].value_counts().idxmax()"
   ]
  },
  {
   "cell_type": "code",
   "execution_count": 20,
   "id": "048ba554",
   "metadata": {},
   "outputs": [],
   "source": [
    "# The country with the least number of subscribers \n",
    "df['Country'].value_counts().idxmin()"
   ]
  },
  {
   "cell_type": "code",
   "execution_count": 21,
   "id": "b9fd9026",
   "metadata": {},
   "outputs": [],
   "source": [
    "# The last subscription date\n",
    "df['Join Date'].max()"
   ]
  },
  {
   "cell_type": "code",
   "execution_count": 22,
   "id": "0668425b",
   "metadata": {},
   "outputs": [],
   "source": [
    "# The first subscription date\n",
    "df['Join Date'].min()"
   ]
  },
  {
   "cell_type": "code",
   "execution_count": 23,
   "id": "8eb4586f",
   "metadata": {},
   "outputs": [],
   "source": [
    "# The most device is used\n",
    "df['Device'].value_counts().idxmax()"
   ]
  },
  {
   "cell_type": "markdown",
   "id": "3b6a3314",
   "metadata": {},
   "source": [
    "## Visualizing"
   ]
  },
  {
   "cell_type": "code",
   "execution_count": 24,
   "id": "05ecfa49",
   "metadata": {},
   "outputs": [],
   "source": [
    "Basic = df.loc[df['Subscription Type']=='Basic','Monthly Revenue'].sum()\n",
    "Standard = df.loc[df['Subscription Type']=='Standard','Monthly Revenue'].sum()\n",
    "Premium  = df.loc[df['Subscription Type']=='Premium','Monthly Revenue'].sum()"
   ]
  },
  {
   "cell_type": "code",
   "execution_count": 25,
   "id": "cfe2ec0d",
   "metadata": {},
   "outputs": [],
   "source": [
    "RevData = {'Subscription Type':['Basic','Standard','Premium'],'Monthly Revenue':[Basic,Standard,Premium]}"
   ]
  },
  {
   "cell_type": "code",
   "execution_count": 26,
   "id": "df569dd7",
   "metadata": {},
   "outputs": [],
   "source": [
    "sns.barplot(x = 'Subscription Type', y = 'Monthly Revenue', data=RevData)\n",
    "plt.title('Total monthly revenue of each Netflix subscription type')\n",
    "plt.show()"
   ]
  },
  {
   "cell_type": "code",
   "execution_count": 27,
   "id": "5797c1d8",
   "metadata": {},
   "outputs": [],
   "source": [
    "devices = df['Device'].value_counts()"
   ]
  },
  {
   "cell_type": "code",
   "execution_count": 28,
   "id": "91960639",
   "metadata": {},
   "outputs": [],
   "source": [
    "plt.pie(devices,labels=devices.index,autopct='%.2f')\n",
    "plt.title('Devices Which is used for netflix')\n",
    "plt.show()"
   ]
  },
  {
   "cell_type": "code",
   "execution_count": 29,
   "id": "c4d7afdf",
   "metadata": {},
   "outputs": [],
   "source": [
    "gender = df['Gender'].value_counts()"
   ]
  },
  {
   "cell_type": "code",
   "execution_count": 30,
   "id": "d8694109",
   "metadata": {},
   "outputs": [],
   "source": [
    "plt.pie(gender,labels=gender.index,autopct='%.2f')\n",
    "plt.title('Gender')\n",
    "plt.show()"
   ]
  },
  {
   "cell_type": "code",
   "execution_count": 31,
   "id": "82ba21aa",
   "metadata": {},
   "outputs": [],
   "source": [
    "# Subscription types counts by country\n",
    "subscription_counts = df.groupby(['Country', 'Subscription Type'])['User ID'].count().unstack()\n",
    "subscription_counts.plot(kind = 'bar',\n",
    "       stacked = True)\n",
    "plt.xlabel('Country')\n",
    "plt.ylabel('Number of subscriptions')\n",
    "plt.title('Subscription types counts by country')\n",
    "plt.legend(title='Subscription Type')\n",
    "plt.show()"
   ]
  },
  {
   "cell_type": "code",
   "execution_count": 32,
   "id": "c8873c3f",
   "metadata": {},
   "outputs": [],
   "source": [
    "# Distribution of subscribers \n",
    "Age = df['Age'].value_counts()\n",
    "Age.plot(kind='bar')\n",
    "plt.xlabel('Age')\n",
    "plt.ylabel('Number of subscribers')\n",
    "plt.title('Distribution of subscribers')\n",
    "plt.show()"
   ]
  },
  {
   "cell_type": "code",
   "execution_count": null,
   "id": "2ac68bde",
   "metadata": {},
   "outputs": [],
   "source": []
  }
 ],
 "metadata": {
  "kernelspec": {
   "display_name": "Python 3 (ipykernel)",
   "language": "python",
   "name": "python3"
  },
  "language_info": {
   "codemirror_mode": {
    "name": "ipython",
    "version": 3
   },
   "file_extension": ".py",
   "mimetype": "text/x-python",
   "name": "python",
   "nbconvert_exporter": "python",
   "pygments_lexer": "ipython3",
   "version": "3.9.17"
  }
 },
 "nbformat": 4,
 "nbformat_minor": 5
}
