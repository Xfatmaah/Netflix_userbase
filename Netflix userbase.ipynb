{
 "cells": [
  {
   "cell_type": "code",
   "execution_count": 1,
   "id": "eefe0287",
   "metadata": {},
   "outputs": [],
   "source": [
    "import pandas as pd\n",
    "import seaborn as sns\n",
    "import matplotlib.pyplot as plt"
   ]
  },
  {
   "cell_type": "markdown",
   "id": "2254875d",
   "metadata": {},
   "source": [
    "## Data Exploration"
   ]
  },
  {
   "cell_type": "code",
   "execution_count": 2,
   "id": "01823311",
   "metadata": {},
   "outputs": [],
   "source": [
    "df = pd.read_csv('Netflix Userbase.csv')"
   ]
  },
  {
   "cell_type": "code",
   "execution_count": 3,
   "id": "e5c29904",
   "metadata": {},
   "outputs": [
    {
     "data": {
      "text/html": [
       "<div>\n",
       "<style scoped>\n",
       "    .dataframe tbody tr th:only-of-type {\n",
       "        vertical-align: middle;\n",
       "    }\n",
       "\n",
       "    .dataframe tbody tr th {\n",
       "        vertical-align: top;\n",
       "    }\n",
       "\n",
       "    .dataframe thead th {\n",
       "        text-align: right;\n",
       "    }\n",
       "</style>\n",
       "<table border=\"1\" class=\"dataframe\">\n",
       "  <thead>\n",
       "    <tr style=\"text-align: right;\">\n",
       "      <th></th>\n",
       "      <th>User ID</th>\n",
       "      <th>Subscription Type</th>\n",
       "      <th>Monthly Revenue</th>\n",
       "      <th>Join Date</th>\n",
       "      <th>Last Payment Date</th>\n",
       "      <th>Country</th>\n",
       "      <th>Age</th>\n",
       "      <th>Gender</th>\n",
       "      <th>Device</th>\n",
       "      <th>Plan Duration</th>\n",
       "    </tr>\n",
       "  </thead>\n",
       "  <tbody>\n",
       "    <tr>\n",
       "      <th>0</th>\n",
       "      <td>1</td>\n",
       "      <td>Basic</td>\n",
       "      <td>10</td>\n",
       "      <td>15-01-22</td>\n",
       "      <td>10-06-23</td>\n",
       "      <td>United States</td>\n",
       "      <td>28</td>\n",
       "      <td>Male</td>\n",
       "      <td>Smartphone</td>\n",
       "      <td>1 Month</td>\n",
       "    </tr>\n",
       "    <tr>\n",
       "      <th>1</th>\n",
       "      <td>2</td>\n",
       "      <td>Premium</td>\n",
       "      <td>15</td>\n",
       "      <td>05-09-21</td>\n",
       "      <td>22-06-23</td>\n",
       "      <td>Canada</td>\n",
       "      <td>35</td>\n",
       "      <td>Female</td>\n",
       "      <td>Tablet</td>\n",
       "      <td>1 Month</td>\n",
       "    </tr>\n",
       "    <tr>\n",
       "      <th>2</th>\n",
       "      <td>3</td>\n",
       "      <td>Standard</td>\n",
       "      <td>12</td>\n",
       "      <td>28-02-23</td>\n",
       "      <td>27-06-23</td>\n",
       "      <td>United Kingdom</td>\n",
       "      <td>42</td>\n",
       "      <td>Male</td>\n",
       "      <td>Smart TV</td>\n",
       "      <td>1 Month</td>\n",
       "    </tr>\n",
       "    <tr>\n",
       "      <th>3</th>\n",
       "      <td>4</td>\n",
       "      <td>Standard</td>\n",
       "      <td>12</td>\n",
       "      <td>10-07-22</td>\n",
       "      <td>26-06-23</td>\n",
       "      <td>Australia</td>\n",
       "      <td>51</td>\n",
       "      <td>Female</td>\n",
       "      <td>Laptop</td>\n",
       "      <td>1 Month</td>\n",
       "    </tr>\n",
       "    <tr>\n",
       "      <th>4</th>\n",
       "      <td>5</td>\n",
       "      <td>Basic</td>\n",
       "      <td>10</td>\n",
       "      <td>01-05-23</td>\n",
       "      <td>28-06-23</td>\n",
       "      <td>Germany</td>\n",
       "      <td>33</td>\n",
       "      <td>Male</td>\n",
       "      <td>Smartphone</td>\n",
       "      <td>1 Month</td>\n",
       "    </tr>\n",
       "  </tbody>\n",
       "</table>\n",
       "</div>"
      ],
      "text/plain": [
       "   User ID Subscription Type  Monthly Revenue Join Date Last Payment Date  \\\n",
       "0        1             Basic               10  15-01-22          10-06-23   \n",
       "1        2           Premium               15  05-09-21          22-06-23   \n",
       "2        3          Standard               12  28-02-23          27-06-23   \n",
       "3        4          Standard               12  10-07-22          26-06-23   \n",
       "4        5             Basic               10  01-05-23          28-06-23   \n",
       "\n",
       "          Country  Age  Gender      Device Plan Duration  \n",
       "0   United States   28    Male  Smartphone       1 Month  \n",
       "1          Canada   35  Female      Tablet       1 Month  \n",
       "2  United Kingdom   42    Male    Smart TV       1 Month  \n",
       "3       Australia   51  Female      Laptop       1 Month  \n",
       "4         Germany   33    Male  Smartphone       1 Month  "
      ]
     },
     "execution_count": 3,
     "metadata": {},
     "output_type": "execute_result"
    }
   ],
   "source": [
    "# show first 5 rows\n",
    "df.head()"
   ]
  },
  {
   "cell_type": "code",
   "execution_count": 4,
   "id": "62cfce0b",
   "metadata": {},
   "outputs": [
    {
     "data": {
      "text/html": [
       "<div>\n",
       "<style scoped>\n",
       "    .dataframe tbody tr th:only-of-type {\n",
       "        vertical-align: middle;\n",
       "    }\n",
       "\n",
       "    .dataframe tbody tr th {\n",
       "        vertical-align: top;\n",
       "    }\n",
       "\n",
       "    .dataframe thead th {\n",
       "        text-align: right;\n",
       "    }\n",
       "</style>\n",
       "<table border=\"1\" class=\"dataframe\">\n",
       "  <thead>\n",
       "    <tr style=\"text-align: right;\">\n",
       "      <th></th>\n",
       "      <th>User ID</th>\n",
       "      <th>Subscription Type</th>\n",
       "      <th>Monthly Revenue</th>\n",
       "      <th>Join Date</th>\n",
       "      <th>Last Payment Date</th>\n",
       "      <th>Country</th>\n",
       "      <th>Age</th>\n",
       "      <th>Gender</th>\n",
       "      <th>Device</th>\n",
       "      <th>Plan Duration</th>\n",
       "    </tr>\n",
       "  </thead>\n",
       "  <tbody>\n",
       "    <tr>\n",
       "      <th>2495</th>\n",
       "      <td>2496</td>\n",
       "      <td>Premium</td>\n",
       "      <td>14</td>\n",
       "      <td>25-07-22</td>\n",
       "      <td>12-07-23</td>\n",
       "      <td>Spain</td>\n",
       "      <td>28</td>\n",
       "      <td>Female</td>\n",
       "      <td>Smart TV</td>\n",
       "      <td>1 Month</td>\n",
       "    </tr>\n",
       "    <tr>\n",
       "      <th>2496</th>\n",
       "      <td>2497</td>\n",
       "      <td>Basic</td>\n",
       "      <td>15</td>\n",
       "      <td>04-08-22</td>\n",
       "      <td>14-07-23</td>\n",
       "      <td>Spain</td>\n",
       "      <td>33</td>\n",
       "      <td>Female</td>\n",
       "      <td>Smart TV</td>\n",
       "      <td>1 Month</td>\n",
       "    </tr>\n",
       "    <tr>\n",
       "      <th>2497</th>\n",
       "      <td>2498</td>\n",
       "      <td>Standard</td>\n",
       "      <td>12</td>\n",
       "      <td>09-08-22</td>\n",
       "      <td>15-07-23</td>\n",
       "      <td>United States</td>\n",
       "      <td>38</td>\n",
       "      <td>Male</td>\n",
       "      <td>Laptop</td>\n",
       "      <td>1 Month</td>\n",
       "    </tr>\n",
       "    <tr>\n",
       "      <th>2498</th>\n",
       "      <td>2499</td>\n",
       "      <td>Standard</td>\n",
       "      <td>13</td>\n",
       "      <td>12-08-22</td>\n",
       "      <td>12-07-23</td>\n",
       "      <td>Canada</td>\n",
       "      <td>48</td>\n",
       "      <td>Female</td>\n",
       "      <td>Tablet</td>\n",
       "      <td>1 Month</td>\n",
       "    </tr>\n",
       "    <tr>\n",
       "      <th>2499</th>\n",
       "      <td>2500</td>\n",
       "      <td>Basic</td>\n",
       "      <td>15</td>\n",
       "      <td>13-08-22</td>\n",
       "      <td>12-07-23</td>\n",
       "      <td>United States</td>\n",
       "      <td>35</td>\n",
       "      <td>Female</td>\n",
       "      <td>Smart TV</td>\n",
       "      <td>1 Month</td>\n",
       "    </tr>\n",
       "  </tbody>\n",
       "</table>\n",
       "</div>"
      ],
      "text/plain": [
       "      User ID Subscription Type  Monthly Revenue Join Date Last Payment Date  \\\n",
       "2495     2496           Premium               14  25-07-22          12-07-23   \n",
       "2496     2497             Basic               15  04-08-22          14-07-23   \n",
       "2497     2498          Standard               12  09-08-22          15-07-23   \n",
       "2498     2499          Standard               13  12-08-22          12-07-23   \n",
       "2499     2500             Basic               15  13-08-22          12-07-23   \n",
       "\n",
       "            Country  Age  Gender    Device Plan Duration  \n",
       "2495          Spain   28  Female  Smart TV       1 Month  \n",
       "2496          Spain   33  Female  Smart TV       1 Month  \n",
       "2497  United States   38    Male    Laptop       1 Month  \n",
       "2498         Canada   48  Female    Tablet       1 Month  \n",
       "2499  United States   35  Female  Smart TV       1 Month  "
      ]
     },
     "execution_count": 4,
     "metadata": {},
     "output_type": "execute_result"
    }
   ],
   "source": [
    "# show last 5 rows\n",
    "df.tail()"
   ]
  },
  {
   "cell_type": "code",
   "execution_count": 5,
   "id": "a6e6c63c",
   "metadata": {},
   "outputs": [
    {
     "data": {
      "text/plain": [
       "(2500, 10)"
      ]
     },
     "execution_count": 5,
     "metadata": {},
     "output_type": "execute_result"
    }
   ],
   "source": [
    "# Dstaset shape(rows,columns)\n",
    "df.shape"
   ]
  },
  {
   "cell_type": "code",
   "execution_count": 6,
   "id": "e77ca77c",
   "metadata": {},
   "outputs": [
    {
     "name": "stdout",
     "output_type": "stream",
     "text": [
      "<class 'pandas.core.frame.DataFrame'>\n",
      "RangeIndex: 2500 entries, 0 to 2499\n",
      "Data columns (total 10 columns):\n",
      " #   Column             Non-Null Count  Dtype \n",
      "---  ------             --------------  ----- \n",
      " 0   User ID            2500 non-null   int64 \n",
      " 1   Subscription Type  2500 non-null   object\n",
      " 2   Monthly Revenue    2500 non-null   int64 \n",
      " 3   Join Date          2500 non-null   object\n",
      " 4   Last Payment Date  2500 non-null   object\n",
      " 5   Country            2500 non-null   object\n",
      " 6   Age                2500 non-null   int64 \n",
      " 7   Gender             2500 non-null   object\n",
      " 8   Device             2500 non-null   object\n",
      " 9   Plan Duration      2500 non-null   object\n",
      "dtypes: int64(3), object(7)\n",
      "memory usage: 195.4+ KB\n"
     ]
    }
   ],
   "source": [
    "# Getting information about dataset\n",
    "df.info()"
   ]
  },
  {
   "cell_type": "code",
   "execution_count": 7,
   "id": "136446b3",
   "metadata": {},
   "outputs": [],
   "source": [
    "# recast data type to datetime\n",
    "df['Join Date'] = df['Join Date'].astype('datetime64[ns]')\n",
    "df['Last Payment Date'] = df['Last Payment Date'].astype('datetime64[ns]')"
   ]
  },
  {
   "cell_type": "code",
   "execution_count": 8,
   "id": "0cda5c90",
   "metadata": {},
   "outputs": [],
   "source": [
    "# another way\n",
    "# df['Join Date'] = pd.to_datetime(df['Join Date'])\n",
    "# df['Last Payment Date'] = pd.to_datetime(df['Last Payment Date'])"
   ]
  },
  {
   "cell_type": "code",
   "execution_count": 9,
   "id": "e4aa7ff8",
   "metadata": {},
   "outputs": [
    {
     "data": {
      "text/plain": [
       "dtype('<M8[ns]')"
      ]
     },
     "execution_count": 9,
     "metadata": {},
     "output_type": "execute_result"
    }
   ],
   "source": [
    "df['Join Date'].dtype"
   ]
  },
  {
   "cell_type": "code",
   "execution_count": 10,
   "id": "ee1aeb22",
   "metadata": {},
   "outputs": [
    {
     "name": "stdout",
     "output_type": "stream",
     "text": [
      "False\n"
     ]
    }
   ],
   "source": [
    "# check duplicated rows\n",
    "print(df.duplicated().any())"
   ]
  },
  {
   "cell_type": "code",
   "execution_count": 11,
   "id": "9b01d782",
   "metadata": {},
   "outputs": [
    {
     "data": {
      "text/html": [
       "<div>\n",
       "<style scoped>\n",
       "    .dataframe tbody tr th:only-of-type {\n",
       "        vertical-align: middle;\n",
       "    }\n",
       "\n",
       "    .dataframe tbody tr th {\n",
       "        vertical-align: top;\n",
       "    }\n",
       "\n",
       "    .dataframe thead th {\n",
       "        text-align: right;\n",
       "    }\n",
       "</style>\n",
       "<table border=\"1\" class=\"dataframe\">\n",
       "  <thead>\n",
       "    <tr style=\"text-align: right;\">\n",
       "      <th></th>\n",
       "      <th>Monthly Revenue</th>\n",
       "      <th>Age</th>\n",
       "    </tr>\n",
       "  </thead>\n",
       "  <tbody>\n",
       "    <tr>\n",
       "      <th>count</th>\n",
       "      <td>2500.000000</td>\n",
       "      <td>2500.000000</td>\n",
       "    </tr>\n",
       "    <tr>\n",
       "      <th>mean</th>\n",
       "      <td>12.508400</td>\n",
       "      <td>38.795600</td>\n",
       "    </tr>\n",
       "    <tr>\n",
       "      <th>std</th>\n",
       "      <td>1.686851</td>\n",
       "      <td>7.171778</td>\n",
       "    </tr>\n",
       "    <tr>\n",
       "      <th>min</th>\n",
       "      <td>10.000000</td>\n",
       "      <td>26.000000</td>\n",
       "    </tr>\n",
       "    <tr>\n",
       "      <th>25%</th>\n",
       "      <td>11.000000</td>\n",
       "      <td>32.000000</td>\n",
       "    </tr>\n",
       "    <tr>\n",
       "      <th>50%</th>\n",
       "      <td>12.000000</td>\n",
       "      <td>39.000000</td>\n",
       "    </tr>\n",
       "    <tr>\n",
       "      <th>75%</th>\n",
       "      <td>14.000000</td>\n",
       "      <td>45.000000</td>\n",
       "    </tr>\n",
       "    <tr>\n",
       "      <th>max</th>\n",
       "      <td>15.000000</td>\n",
       "      <td>51.000000</td>\n",
       "    </tr>\n",
       "  </tbody>\n",
       "</table>\n",
       "</div>"
      ],
      "text/plain": [
       "       Monthly Revenue          Age\n",
       "count      2500.000000  2500.000000\n",
       "mean         12.508400    38.795600\n",
       "std           1.686851     7.171778\n",
       "min          10.000000    26.000000\n",
       "25%          11.000000    32.000000\n",
       "50%          12.000000    39.000000\n",
       "75%          14.000000    45.000000\n",
       "max          15.000000    51.000000"
      ]
     },
     "execution_count": 11,
     "metadata": {},
     "output_type": "execute_result"
    }
   ],
   "source": [
    "# get overall statistics\n",
    "df[['Monthly Revenue','Age']].describe()"
   ]
  },
  {
   "cell_type": "code",
   "execution_count": 12,
   "id": "ca234058",
   "metadata": {},
   "outputs": [
    {
     "data": {
      "text/html": [
       "<div>\n",
       "<style scoped>\n",
       "    .dataframe tbody tr th:only-of-type {\n",
       "        vertical-align: middle;\n",
       "    }\n",
       "\n",
       "    .dataframe tbody tr th {\n",
       "        vertical-align: top;\n",
       "    }\n",
       "\n",
       "    .dataframe thead th {\n",
       "        text-align: right;\n",
       "    }\n",
       "</style>\n",
       "<table border=\"1\" class=\"dataframe\">\n",
       "  <thead>\n",
       "    <tr style=\"text-align: right;\">\n",
       "      <th></th>\n",
       "      <th>Subscription Type</th>\n",
       "      <th>Country</th>\n",
       "      <th>Gender</th>\n",
       "      <th>Device</th>\n",
       "      <th>Plan Duration</th>\n",
       "    </tr>\n",
       "  </thead>\n",
       "  <tbody>\n",
       "    <tr>\n",
       "      <th>count</th>\n",
       "      <td>2500</td>\n",
       "      <td>2500</td>\n",
       "      <td>2500</td>\n",
       "      <td>2500</td>\n",
       "      <td>2500</td>\n",
       "    </tr>\n",
       "    <tr>\n",
       "      <th>unique</th>\n",
       "      <td>3</td>\n",
       "      <td>10</td>\n",
       "      <td>2</td>\n",
       "      <td>4</td>\n",
       "      <td>1</td>\n",
       "    </tr>\n",
       "    <tr>\n",
       "      <th>top</th>\n",
       "      <td>Basic</td>\n",
       "      <td>United States</td>\n",
       "      <td>Female</td>\n",
       "      <td>Laptop</td>\n",
       "      <td>1 Month</td>\n",
       "    </tr>\n",
       "    <tr>\n",
       "      <th>freq</th>\n",
       "      <td>999</td>\n",
       "      <td>451</td>\n",
       "      <td>1257</td>\n",
       "      <td>636</td>\n",
       "      <td>2500</td>\n",
       "    </tr>\n",
       "  </tbody>\n",
       "</table>\n",
       "</div>"
      ],
      "text/plain": [
       "       Subscription Type        Country  Gender  Device Plan Duration\n",
       "count               2500           2500    2500    2500          2500\n",
       "unique                 3             10       2       4             1\n",
       "top                Basic  United States  Female  Laptop       1 Month\n",
       "freq                 999            451    1257     636          2500"
      ]
     },
     "execution_count": 12,
     "metadata": {},
     "output_type": "execute_result"
    }
   ],
   "source": [
    "# categorical data info\n",
    "df.describe(include=\"O\")"
   ]
  },
  {
   "cell_type": "code",
   "execution_count": 13,
   "id": "dfc86808",
   "metadata": {},
   "outputs": [
    {
     "data": {
      "text/plain": [
       "Text(0.5, 1.0, 'Age')"
      ]
     },
     "execution_count": 13,
     "metadata": {},
     "output_type": "execute_result"
    },
    {
     "data": {
      "image/png": "[encoded data removed]",
      "text/plain": [
       "<Figure size 1500x500 with 2 Axes>"
      ]
     },
     "metadata": {},
     "output_type": "display_data"
    }
   ],
   "source": [
    "# check outliers\n",
    "fig, ax = plt.subplots(1,2,figsize=(15,5))\n",
    "ax[0].boxplot(df['Monthly Revenue'])\n",
    "ax[0].set_title(\"Monthly Revenue\")\n",
    "ax[1].boxplot(df['Age'])\n",
    "ax[1].set_title(\"Age\")"
   ]
  },
  {
   "cell_type": "code",
   "execution_count": 29,
   "id": "65d7160b",
   "metadata": {},
   "outputs": [
    {
     "data": {
      "text/plain": [
       "User ID              2500\n",
       "Subscription Type       3\n",
       "Monthly Revenue         6\n",
       "Join Date             300\n",
       "Last Payment Date      26\n",
       "Country                10\n",
       "Age                    26\n",
       "Gender                  2\n",
       "Device                  4\n",
       "Plan Duration           1\n",
       "dtype: int64"
      ]
     },
     "execution_count": 29,
     "metadata": {},
     "output_type": "execute_result"
    }
   ],
   "source": [
    "# Check number of unique values in data\n",
    "df.nunique()"
   ]
  },
  {
   "cell_type": "code",
   "execution_count": 14,
   "id": "75414ee6",
   "metadata": {},
   "outputs": [
    {
     "data": {
      "text/plain": [
       "39"
      ]
     },
     "execution_count": 14,
     "metadata": {},
     "output_type": "execute_result"
    }
   ],
   "source": [
    "# The most frequent subscribers age\n",
    "df['Age'].value_counts().idxmax()"
   ]
  },
  {
   "cell_type": "code",
   "execution_count": 15,
   "id": "989fe9e3",
   "metadata": {},
   "outputs": [
    {
     "data": {
      "text/plain": [
       "Basic       999\n",
       "Standard    768\n",
       "Premium     733\n",
       "Name: Subscription Type, dtype: int64"
      ]
     },
     "execution_count": 15,
     "metadata": {},
     "output_type": "execute_result"
    }
   ],
   "source": [
    "# The number of subscribers in each Subscription Type\n",
    "df['Subscription Type'].value_counts()"
   ]
  },
  {
   "cell_type": "code",
   "execution_count": 30,
   "id": "1425960c",
   "metadata": {},
   "outputs": [
    {
     "data": {
      "text/plain": [
       "Laptop        636\n",
       "Tablet        633\n",
       "Smartphone    621\n",
       "Smart TV      610\n",
       "Name: Device, dtype: int64"
      ]
     },
     "execution_count": 30,
     "metadata": {},
     "output_type": "execute_result"
    }
   ],
   "source": [
    "# Each device count\n",
    "df['Device'].value_counts()"
   ]
  },
  {
   "cell_type": "code",
   "execution_count": 16,
   "id": "377f6705",
   "metadata": {},
   "outputs": [
    {
     "data": {
      "text/plain": [
       "Female    1257\n",
       "Male      1243\n",
       "Name: Gender, dtype: int64"
      ]
     },
     "execution_count": 16,
     "metadata": {},
     "output_type": "execute_result"
    }
   ],
   "source": [
    "# The number of subscribers of both genders(Male, Female)\n",
    "df['Gender'].value_counts()"
   ]
  },
  {
   "cell_type": "code",
   "execution_count": 17,
   "id": "04eb3a19",
   "metadata": {},
   "outputs": [
    {
     "data": {
      "text/plain": [
       "'United States'"
      ]
     },
     "execution_count": 17,
     "metadata": {},
     "output_type": "execute_result"
    }
   ],
   "source": [
    "# The country with the most subscribers \n",
    "df['Country'].value_counts().idxmax()"
   ]
  },
  {
   "cell_type": "code",
   "execution_count": 18,
   "id": "048ba554",
   "metadata": {},
   "outputs": [
    {
     "data": {
      "text/plain": [
       "'United Kingdom'"
      ]
     },
     "execution_count": 18,
     "metadata": {},
     "output_type": "execute_result"
    }
   ],
   "source": [
    "# The country with the least number of subscribers \n",
    "df['Country'].value_counts().idxmin()"
   ]
  },
  {
   "cell_type": "code",
   "execution_count": 19,
   "id": "b9fd9026",
   "metadata": {},
   "outputs": [
    {
     "data": {
      "text/plain": [
       "Timestamp('2023-12-01 00:00:00')"
      ]
     },
     "execution_count": 19,
     "metadata": {},
     "output_type": "execute_result"
    }
   ],
   "source": [
    "# The last subscription date\n",
    "df['Join Date'].max()"
   ]
  },
  {
   "cell_type": "code",
   "execution_count": 20,
   "id": "0668425b",
   "metadata": {},
   "outputs": [
    {
     "data": {
      "text/plain": [
       "Timestamp('2021-05-09 00:00:00')"
      ]
     },
     "execution_count": 20,
     "metadata": {},
     "output_type": "execute_result"
    }
   ],
   "source": [
    "# The first subscription date\n",
    "df['Join Date'].min()"
   ]
  },
  {
   "cell_type": "code",
   "execution_count": 21,
   "id": "8eb4586f",
   "metadata": {},
   "outputs": [
    {
     "data": {
      "text/plain": [
       "'Laptop'"
      ]
     },
     "execution_count": 21,
     "metadata": {},
     "output_type": "execute_result"
    }
   ],
   "source": [
    "# The most device is used\n",
    "df['Device'].value_counts().idxmax()"
   ]
  },
  {
   "cell_type": "markdown",
   "id": "3b6a3314",
   "metadata": {},
   "source": [
    "## Visualizing"
   ]
  },
  {
   "cell_type": "code",
   "execution_count": 22,
   "id": "05ecfa49",
   "metadata": {},
   "outputs": [],
   "source": [
    "Basic = df.loc[df['Subscription Type']=='Basic','Monthly Revenue'].sum()\n",
    "Standard = df.loc[df['Subscription Type']=='Standard','Monthly Revenue'].sum()\n",
    "Premium  = df.loc[df['Subscription Type']=='Premium','Monthly Revenue'].sum()"
   ]
  },
  {
   "cell_type": "code",
   "execution_count": 23,
   "id": "cfe2ec0d",
   "metadata": {},
   "outputs": [],
   "source": [
    "RevData = {'Subscription Type':['Basic','Standard','Premium'],'Monthly Revenue':[Basic,Standard,Premium]}"
   ]
  },
  {
   "cell_type": "code",
   "execution_count": 24,
   "id": "df569dd7",
   "metadata": {},
   "outputs": [
    {
     "data": {
      "image/png": "[encoded data removed]",
      "text/plain": [
       "<Figure size 640x480 with 1 Axes>"
      ]
     },
     "metadata": {},
     "output_type": "display_data"
    }
   ],
   "source": [
    "sns.barplot(x = 'Subscription Type', y = 'Monthly Revenue', data=RevData)\n",
    "plt.title('Total monthly revenue of each Netflix subscription type')\n",
    "plt.show()"
   ]
  },
  {
   "cell_type": "code",
   "execution_count": 25,
   "id": "5797c1d8",
   "metadata": {},
   "outputs": [],
   "source": [
    "devices = df['Device'].value_counts()"
   ]
  },
  {
   "cell_type": "code",
   "execution_count": 26,
   "id": "91960639",
   "metadata": {},
   "outputs": [
    {
     "data": {
      "image/png": "[encoded data removed]",
      "text/plain": [
       "<Figure size 640x480 with 1 Axes>"
      ]
     },
     "metadata": {},
     "output_type": "display_data"
    }
   ],
   "source": [
    "plt.pie(devices,labels=devices.index,autopct='%.2f')\n",
    "plt.title('Devices Which is used for netflix')\n",
    "plt.show()"
   ]
  },
  {
   "cell_type": "code",
   "execution_count": 27,
   "id": "c4d7afdf",
   "metadata": {},
   "outputs": [],
   "source": [
    "gender = df['Gender'].value_counts()"
   ]
  },
  {
   "cell_type": "code",
   "execution_count": 28,
   "id": "8be19b3f",
   "metadata": {},
   "outputs": [
    {
     "data": {
      "image/png": "[encoded data removed]",
      "text/plain": [
       "<Figure size 640x480 with 1 Axes>"
      ]
     },
     "metadata": {},
     "output_type": "display_data"
    }
   ],
   "source": [
    "plt.pie(gender,labels=gender.index,autopct='%.2f')\n",
    "plt.title('Gender')\n",
    "plt.show()"
   ]
  },
  {
   "cell_type": "code",
   "execution_count": 43,
   "id": "fbc44ae2",
   "metadata": {},
   "outputs": [
    {
     "data": {
      "image/png": "[encoded data removed]",
      "text/plain": [
       "<Figure size 640x480 with 1 Axes>"
      ]
     },
     "metadata": {},
     "output_type": "display_data"
    }
   ],
   "source": [
    "# Subscription types counts by country\n",
    "subscription_counts = df.groupby(['Country', 'Subscription Type'])['User ID'].count().unstack()\n",
    "subscription_counts.plot(kind = 'bar',\n",
    "       stacked = True)\n",
    "plt.xlabel('Country')\n",
    "plt.ylabel('Number of subscriptions')\n",
    "plt.title('Subscription types counts by country')\n",
    "plt.legend(title='Subscription Type')\n",
    "plt.show()"
   ]
  },
  {
   "cell_type": "code",
   "execution_count": 49,
   "id": "7734b75a",
   "metadata": {},
   "outputs": [
    {
     "data": {
      "image/png": "[encoded data removed]",
      "text/plain": [
       "<Figure size 640x480 with 1 Axes>"
      ]
     },
     "metadata": {},
     "output_type": "display_data"
    }
   ],
   "source": [
    "# Distribution of subscribers \n",
    "Age = df['Age'].value_counts()\n",
    "Age.plot(kind='bar')\n",
    "plt.xlabel('Age')\n",
    "plt.ylabel('Number of subscribers')\n",
    "plt.title('Distribution of subscribers')\n",
    "plt.show()"
   ]
  },
  {
   "cell_type": "code",
   "execution_count": null,
   "id": "ecfc93de",
   "metadata": {},
   "outputs": [],
   "source": []
  }
 ],
 "metadata": {
  "kernelspec": {
   "display_name": "Python 3 (ipykernel)",
   "language": "python",
   "name": "python3"
  },
  "language_info": {
   "codemirror_mode": {
    "name": "ipython",
    "version": 3
   },
   "file_extension": ".py",
   "mimetype": "text/x-python",
   "name": "python",
   "nbconvert_exporter": "python",
   "pygments_lexer": "ipython3",
   "version": "3.9.17"
  }
 },
 "nbformat": 4,
 "nbformat_minor": 5
}
